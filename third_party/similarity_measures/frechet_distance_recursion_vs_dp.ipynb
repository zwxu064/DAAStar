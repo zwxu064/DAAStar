{
 "cells": [
  {
   "cell_type": "markdown",
   "metadata": {},
   "source": [
    "# Fréchet distance\n",
    "\n",
    "This will compare the performance of calculating the discrete Fréchet distance with the recursive and dynamic programming algorithms."
   ]
  },
  {
   "cell_type": "code",
   "execution_count": 1,
   "metadata": {},
   "outputs": [],
   "source": [
    "import similaritymeasures as sm\n",
    "import numpy as np\n",
    "import matplotlib.pyplot as plt\n",
    "import toleranceinterval as ti\n",
    "from scipy.spatial import minkowski_distance\n",
    "from time import time\n"
   ]
  },
  {
   "cell_type": "code",
   "execution_count": 2,
   "metadata": {},
   "outputs": [],
   "source": [
    "def dp_frechet_dist(P, Q, pnorm=2):\n",
    "    \"\"\" dynamic programming for discrete frechet distance\n",
    "    \n",
    "    by SenZHANG https://github.com/SenZHANG-GitHub\n",
    "    https://github.com/cjekel/similarity_measures/issues/6#issuecomment-544350039\n",
    "    \"\"\"\n",
    "    n = len(P)\n",
    "    m = len(Q)\n",
    "    ca = np.ones((n, m))\n",
    "    ca = np.multiply(ca, -1)\n",
    "    ca[0, 0] = minkowski_distance(P[0], Q[0], p=pnorm)\n",
    "    for i in range(1, n):\n",
    "        ca[i, 0] = max(ca[i-1, 0], minkowski_distance(P[i], Q[0], p=pnorm))\n",
    "    for j in range(1, m):\n",
    "        ca[0, j] = max(ca[0, j-1], minkowski_distance(P[0], Q[j], p=pnorm))\n",
    "    for i in range(1, n):\n",
    "        for j in range(1, m):\n",
    "            ca[i, j] = max(min(ca[i-1, j], ca[i, j-1], ca[i-1, j-1]), minkowski_distance(P[i], Q[j], p=pnorm))\n",
    "    return ca[n-1, m-1]"
   ]
  },
  {
   "cell_type": "code",
   "execution_count": 3,
   "metadata": {},
   "outputs": [],
   "source": [
    "def benchmark_frechet(sizes, method, seed):\n",
    "    np.random.seed(seed)\n",
    "    n_dim = 5\n",
    "    n_rep = 100\n",
    "    times = np.zeros((len(sizes), n_rep))\n",
    "    for i, size in enumerate(sizes):\n",
    "        for j in range(n_rep):\n",
    "            P = np.random.random((size, n_dim))\n",
    "            Q = np.random.random((size, n_dim))\n",
    "            t0 = time()\n",
    "            d = method(P, Q)\n",
    "            t1 = time()\n",
    "            times[i, j] = t1 - t0\n",
    "    return times"
   ]
  },
  {
   "cell_type": "code",
   "execution_count": 4,
   "metadata": {},
   "outputs": [],
   "source": [
    "sizes = [20, 40, 50, 100, 200, 400, 500, 1000]\n",
    "# recursion times\n",
    "times_recursion = benchmark_frechet(sizes, sm.frechet_dist, 123)\n",
    "# dynamic programming times\n",
    "times_dp = benchmark_frechet(sizes, dp_frechet_dist, 123)"
   ]
  },
  {
   "cell_type": "code",
   "execution_count": 5,
   "metadata": {},
   "outputs": [
    {
     "data": {
      "text/plain": [
       "<matplotlib.legend.Legend at 0x22182296668>"
      ]
     },
     "execution_count": 5,
     "metadata": {},
     "output_type": "execute_result"
    },
    {
     "data": {
      "image/png": "[encoded data removed]",
      "text/plain": [
       "<Figure size 432x288 with 1 Axes>"
      ]
     },
     "metadata": {
      "needs_background": "light"
     },
     "output_type": "display_data"
    }
   ],
   "source": [
    "# compute means of runtimes\n",
    "times_recursion_mean = times_recursion.mean(axis=1)\n",
    "times_dp_mean = times_dp.mean(axis=1)\n",
    "\n",
    "# compute the 99th percntile to 99% confidence\n",
    "bounds_recursion = ti.twoside.normal(times_recursion, 0.99, 0.99)\n",
    "bounds_dp = ti.twoside.normal(times_dp, 0.99, 0.99)\n",
    "\n",
    "# get the - and plus values for error bars\n",
    "k_sigma_recursion = bounds_recursion[:, 1] - times_recursion_mean\n",
    "k_sigma_dp = bounds_dp[:, 1] - times_dp_mean\n",
    "\n",
    "fig = plt.figure()\n",
    "\n",
    "plt.errorbar(sizes, times_recursion_mean,\n",
    "             yerr=k_sigma_recursion,\n",
    "             capsize=2.0,\n",
    "             label='Recursion')\n",
    "plt.errorbar(sizes, times_dp_mean,\n",
    "             yerr=k_sigma_dp,\n",
    "             capsize=2.0,\n",
    "             label='Dynamic Programming')\n",
    "\n",
    "plt.semilogx(True)\n",
    "plt.semilogy(True)\n",
    "plt.xlabel(r'size of both $n$ and $m$')\n",
    "plt.ylabel('Run time, seconds')\n",
    "plt.legend()\n"
   ]
  },
  {
   "cell_type": "code",
   "execution_count": 6,
   "metadata": {},
   "outputs": [
    {
     "data": {
      "text/plain": [
       "array([[3.44202367e-03, 4.50518283e-03],\n",
       "       [1.43606370e-02, 1.71280056e-02],\n",
       "       [2.35760593e-02, 2.60690833e-02],\n",
       "       [9.53312417e-02, 1.02528656e-01],\n",
       "       [3.84261025e-01, 4.05437513e-01],\n",
       "       [1.56694557e+00, 1.62862086e+00],\n",
       "       [2.46232444e+00, 2.52240927e+00],\n",
       "       [9.83034253e+00, 1.01670652e+01]])"
      ]
     },
     "execution_count": 6,
     "metadata": {},
     "output_type": "execute_result"
    }
   ],
   "source": [
    "bounds_dp"
   ]
  },
  {
   "cell_type": "code",
   "execution_count": 7,
   "metadata": {},
   "outputs": [
    {
     "data": {
      "text/plain": [
       "array([0.00053158, 0.00138368, 0.00124651, 0.00359871, 0.01058824,\n",
       "       0.03083765, 0.03004241, 0.16836134])"
      ]
     },
     "execution_count": 7,
     "metadata": {},
     "output_type": "execute_result"
    }
   ],
   "source": [
    "k_sigma_dp"
   ]
  },
  {
   "cell_type": "code",
   "execution_count": 8,
   "metadata": {},
   "outputs": [
    {
     "data": {
      "text/plain": [
       "array([4.69427109e-03, 1.95678020e-02, 3.02675223e-02, 1.21580572e-01,\n",
       "       4.73871052e-01, 1.94466767e+00, 2.88474394e+00, 1.18369269e+01])"
      ]
     },
     "execution_count": 8,
     "metadata": {},
     "output_type": "execute_result"
    }
   ],
   "source": [
    "times_recursion_mean"
   ]
  },
  {
   "cell_type": "code",
   "execution_count": 9,
   "metadata": {},
   "outputs": [
    {
     "data": {
      "text/plain": [
       "array([3.97360325e-03, 1.57443213e-02, 2.48225713e-02, 9.89299488e-02,\n",
       "       3.94849269e-01, 1.59778322e+00, 2.49236686e+00, 9.99870387e+00])"
      ]
     },
     "execution_count": 9,
     "metadata": {},
     "output_type": "execute_result"
    }
   ],
   "source": [
    "times_dp_mean"
   ]
  },
  {
   "cell_type": "code",
   "execution_count": 10,
   "metadata": {},
   "outputs": [
    {
     "data": {
      "text/plain": [
       "array([1.18136381, 1.24284823, 1.21935484, 1.22895618, 1.20013152,\n",
       "       1.21710358, 1.15743151, 1.18384613])"
      ]
     },
     "execution_count": 10,
     "metadata": {},
     "output_type": "execute_result"
    }
   ],
   "source": [
    "times_recursion_mean/times_dp_mean"
   ]
  },
  {
   "cell_type": "code",
   "execution_count": 11,
   "metadata": {},
   "outputs": [
    {
     "data": {
      "text/plain": [
       "<matplotlib.axes._subplots.AxesSubplot at 0x221833ea908>"
      ]
     },
     "execution_count": 11,
     "metadata": {},
     "output_type": "execute_result"
    },
    {
     "data": {
      "image/png": "[encoded data removed]",
      "text/plain": [
       "<Figure size 432x288 with 1 Axes>"
      ]
     },
     "metadata": {},
     "output_type": "display_data"
    }
   ],
   "source": [
    "import seaborn as sns\n",
    "sns.set()\n",
    "sns.distplot(times_recursion[-1])"
   ]
  },
  {
   "cell_type": "code",
   "execution_count": 12,
   "metadata": {},
   "outputs": [
    {
     "data": {
      "text/plain": [
       "<matplotlib.axes._subplots.AxesSubplot at 0x2218346fb38>"
      ]
     },
     "execution_count": 12,
     "metadata": {},
     "output_type": "execute_result"
    },
    {
     "data": {
      "image/png": "[encoded data removed]",
      "text/plain": [
       "<Figure size 432x288 with 1 Axes>"
      ]
     },
     "metadata": {},
     "output_type": "display_data"
    }
   ],
   "source": [
    "sns.distplot(times_dp[-1])"
   ]
  },
  {
   "cell_type": "markdown",
   "metadata": {},
   "source": [
    "# Conclusion\n",
    "\n",
    "**The iterative code was about 1.2 times faster (on average, with 5 dimensions) than the recursive code.** The iterative code also has the benefit of not dealing with recursion limits. I think it's time to replace the recursive code."
   ]
  },
  {
   "cell_type": "code",
   "execution_count": 13,
   "metadata": {},
   "outputs": [
    {
     "data": {
      "text/plain": [
       "'0.3.4'"
      ]
     },
     "execution_count": 13,
     "metadata": {},
     "output_type": "execute_result"
    }
   ],
   "source": [
    "sm.__version__"
   ]
  },
  {
   "cell_type": "code",
   "execution_count": null,
   "metadata": {},
   "outputs": [],
   "source": []
  }
 ],
 "metadata": {
  "kernelspec": {
   "display_name": "Python 3",
   "language": "python",
   "name": "python3"
  },
  "language_info": {
   "codemirror_mode": {
    "name": "ipython",
    "version": 3
   },
   "file_extension": ".py",
   "mimetype": "text/x-python",
   "name": "python",
   "nbconvert_exporter": "python",
   "pygments_lexer": "ipython3",
   "version": "3.6.9"
  }
 },
 "nbformat": 4,
 "nbformat_minor": 2
}
